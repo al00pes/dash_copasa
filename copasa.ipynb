{
 "cells": [
  {
   "cell_type": "code",
   "execution_count": 108,
   "id": "c55e66f1-6e06-46a2-ac39-416cc0c0d9ea",
   "metadata": {},
   "outputs": [],
   "source": [
    "import pandas as pd\n",
    "import mysql.connector\n",
    "import warnings\n",
    "warnings.filterwarnings('ignore')"
   ]
  },
  {
   "cell_type": "code",
   "execution_count": 110,
   "id": "da8f8235-1108-437c-86fd-041e1b1efc0b",
   "metadata": {},
   "outputs": [
    {
     "data": {
      "text/html": [
       "<div>\n",
       "<style scoped>\n",
       "    .dataframe tbody tr th:only-of-type {\n",
       "        vertical-align: middle;\n",
       "    }\n",
       "\n",
       "    .dataframe tbody tr th {\n",
       "        vertical-align: top;\n",
       "    }\n",
       "\n",
       "    .dataframe thead th {\n",
       "        text-align: right;\n",
       "    }\n",
       "</style>\n",
       "<table border=\"1\" class=\"dataframe\">\n",
       "  <thead>\n",
       "    <tr style=\"text-align: right;\">\n",
       "      <th></th>\n",
       "      <th>Localidade</th>\n",
       "      <th>Projeto</th>\n",
       "      <th>Prog. Orçamentário</th>\n",
       "      <th>Requisição</th>\n",
       "      <th>Diagrama de rede</th>\n",
       "      <th>Texto Diagrama de rede</th>\n",
       "      <th>Analista/Fiscal</th>\n",
       "      <th>Planejado</th>\n",
       "      <th>Compromisso</th>\n",
       "      <th>Total Medido</th>\n",
       "      <th>Medido c/reajuste</th>\n",
       "      <th>Saldo</th>\n",
       "      <th>Status</th>\n",
       "      <th>Data Status</th>\n",
       "      <th>Desvio</th>\n",
       "    </tr>\n",
       "  </thead>\n",
       "  <tbody>\n",
       "    <tr>\n",
       "      <th>0</th>\n",
       "      <td>ARAXÁ</td>\n",
       "      <td>E23044-1/PB</td>\n",
       "      <td>PO24.CS.PRE001</td>\n",
       "      <td>12182807</td>\n",
       "      <td>500125117</td>\n",
       "      <td>CT: 22.1544 - YC ENG. - OS.: 4.46/2022</td>\n",
       "      <td>30760</td>\n",
       "      <td>309904.77</td>\n",
       "      <td>309904.77</td>\n",
       "      <td>99261.68</td>\n",
       "      <td>104035.95</td>\n",
       "      <td>210643.09</td>\n",
       "      <td>LIB</td>\n",
       "      <td>2024-01-19</td>\n",
       "      <td>67.97</td>\n",
       "    </tr>\n",
       "  </tbody>\n",
       "</table>\n",
       "</div>"
      ],
      "text/plain": [
       "  Localidade      Projeto Prog. Orçamentário  Requisição  Diagrama de rede  \\\n",
       "0      ARAXÁ  E23044-1/PB     PO24.CS.PRE001    12182807         500125117   \n",
       "\n",
       "                   Texto Diagrama de rede  Analista/Fiscal  Planejado  \\\n",
       "0  CT: 22.1544 - YC ENG. - OS.: 4.46/2022            30760  309904.77   \n",
       "\n",
       "   Compromisso  Total Medido  Medido c/reajuste      Saldo Status Data Status  \\\n",
       "0    309904.77      99261.68          104035.95  210643.09    LIB  2024-01-19   \n",
       "\n",
       "   Desvio  \n",
       "0   67.97  "
      ]
     },
     "execution_count": 110,
     "metadata": {},
     "output_type": "execute_result"
    }
   ],
   "source": [
    "#caminho de destinho \n",
    "#path_excel = 'copasa.xlsx'\n",
    "#path_excel = 'Medição_copasa.xlsx'\n",
    "#Transformando em dataframe\n",
    "path_excel = 'COPASA_NOV_24.xlsx'\n",
    "df_copasa = pd.read_excel(path_excel)\n",
    "\n",
    "#Exibindo\n",
    "df_copasa.head(1)"
   ]
  },
  {
   "cell_type": "code",
   "execution_count": 112,
   "id": "769c6ea8-6b8a-4085-8fcd-5d518421007c",
   "metadata": {},
   "outputs": [
    {
     "data": {
      "text/plain": [
       "Index(['Localidade', 'Projeto', 'Prog. Orçamentário', 'Requisição',\n",
       "       'Diagrama de rede', 'Texto Diagrama de rede', 'Analista/Fiscal',\n",
       "       'Planejado', 'Compromisso', 'Total Medido', 'Medido c/reajuste',\n",
       "       'Saldo', 'Status', 'Data Status', 'Desvio'],\n",
       "      dtype='object')"
      ]
     },
     "execution_count": 112,
     "metadata": {},
     "output_type": "execute_result"
    }
   ],
   "source": [
    "#Visualizando o nome as colunas\n",
    "df_copasa.columns"
   ]
  },
  {
   "cell_type": "code",
   "execution_count": 116,
   "id": "98fac10e-37cd-4339-84bc-5ecd9e81bd44",
   "metadata": {},
   "outputs": [],
   "source": [
    "#modificando o nome das colunas\n",
    "df_copasa.rename(columns={\n",
    "    'Localidade':'LOCALIDADE',\n",
    "    'Projeto':'PROJETO',\n",
    "    'Prog. Orçamentário':'PROG_ORCAMENTARIO',\n",
    "    'Requisição':'REQUISICAO',\n",
    "    'Diagrama de rede':'DIAGRAMA_DE_REDE',\n",
    "    'Texto Diagrama de rede':'TEXTO_DIAGRAMA',\n",
    "    'Analista/Fiscal':'ANALISTA_FISCAL',\n",
    "    'Planejado':'PLANEJADO',\n",
    "    'Compromisso':'COMPROMISSO',\n",
    "    'Total Medido':'TOTAL_MEDIDO',\n",
    "    'Medido c/reajuste':'MEDIDO_REAJUSTE',\n",
    "    'Saldo':'SALDO',\n",
    "    'Status':'STATUS',\n",
    "    'Data Status':'DATA_STATUS',\n",
    "    'Desvio':'DESVIO'}, inplace=True)"
   ]
  },
  {
   "cell_type": "code",
   "execution_count": 118,
   "id": "ea3bbff7-5b59-425e-af7c-1ab9cb77ceba",
   "metadata": {},
   "outputs": [
    {
     "data": {
      "text/plain": [
       "Index(['LOCALIDADE', 'PROJETO', 'PROG_ORCAMENTARIO', 'REQUISICAO',\n",
       "       'DIAGRAMA_DE_REDE', 'TEXTO_DIAGRAMA', 'ANALISTA_FISCAL', 'PLANEJADO',\n",
       "       'COMPROMISSO', 'TOTAL_MEDIDO', 'MEDIDO_REAJUSTE', 'SALDO', 'STATUS',\n",
       "       'DATA_STATUS', 'DESVIO'],\n",
       "      dtype='object')"
      ]
     },
     "execution_count": 118,
     "metadata": {},
     "output_type": "execute_result"
    }
   ],
   "source": [
    "df_copasa.columns"
   ]
  },
  {
   "cell_type": "code",
   "execution_count": 98,
   "id": "eee79a3c-79db-4b6e-938b-bba930722a4a",
   "metadata": {},
   "outputs": [],
   "source": [
    "#Identificando modifcando o tipo\n",
    "#df_copasa['OBSERVACAO'] = df_copasa['OBSERVACAO'].astype(str)"
   ]
  },
  {
   "cell_type": "code",
   "execution_count": 120,
   "id": "d5612e0d-b432-4747-82a5-b25c68f78f32",
   "metadata": {},
   "outputs": [],
   "source": [
    "#/modificando a data para o tipo string\n",
    "df_copasa['DATA_STATUS'] = df_copasa['DATA_STATUS'].astype(str)"
   ]
  },
  {
   "cell_type": "code",
   "execution_count": 100,
   "id": "ca46ae78-6bbb-4816-b007-dae06742ec78",
   "metadata": {},
   "outputs": [],
   "source": [
    "#df_copasa['OBSERVACAO'].fillna('null',inplace=True)"
   ]
  },
  {
   "cell_type": "code",
   "execution_count": 122,
   "id": "ecb47816-4227-4284-834a-cf0545ed74e5",
   "metadata": {},
   "outputs": [
    {
     "data": {
      "text/plain": [
       "LOCALIDADE           0\n",
       "PROJETO              0\n",
       "PROG_ORCAMENTARIO    0\n",
       "REQUISICAO           0\n",
       "DIAGRAMA_DE_REDE     0\n",
       "TEXTO_DIAGRAMA       0\n",
       "ANALISTA_FISCAL      0\n",
       "PLANEJADO            0\n",
       "COMPROMISSO          0\n",
       "TOTAL_MEDIDO         0\n",
       "MEDIDO_REAJUSTE      0\n",
       "SALDO                0\n",
       "STATUS               0\n",
       "DATA_STATUS          0\n",
       "DESVIO               0\n",
       "dtype: int64"
      ]
     },
     "execution_count": 122,
     "metadata": {},
     "output_type": "execute_result"
    }
   ],
   "source": [
    "df_copasa.isnull().sum()"
   ]
  },
  {
   "cell_type": "markdown",
   "id": "bdbc01a3-94b7-499f-b8b5-319febc6bfa0",
   "metadata": {},
   "source": [
    "df_copasa['PROJETO'] = df_copasa['PROJETO'].fillna('null')\n",
    "\n",
    "df_copasa['PROG_ORCAMENTARIO'] = df_copasa['PROG_ORCAMENTARIO'].fillna('null')\n",
    "\n",
    "df_copasa['REQUISICAO'] = df_copasa['REQUISICAO'].fillna('null')\n",
    "\n",
    "df_copasa['ANALISTA_FISCAL'] = df_copasa['ANALISTA_FISCAL'].fillna('null')\n",
    "\n",
    "df_copasa['DIAGRAMA_DE_REDE'] = df_copasa['DIAGRAMA_DE_REDE'].fillna('null')\n",
    "\n",
    "df_copasa['STATUS'] = df_copasa['STATUS'].fillna('null')\n",
    "\n",
    "#df_copasa['COORDENADORES'] = df_copasa['COORDENADORES'].fillna('null')\n",
    "\n",
    "df_copasa['MEDIDO_REAJUSTE'] = df_copasa['MEDIDO_REAJUSTE'].fillna(0)\n",
    "\n",
    "df_copasa['DESVIO'] = df_copasa['DESVIO'].fillna(0)\n",
    "\n",
    "df_copasa['TEXTO_DIAGRAMA'] = df_copasa['TEXTO_DIAGRAMA'].fillna(0)\n",
    "\n",
    "df_copasa['LOCALIDADE'] = df_copasa['LOCALIDADE'].fillna(0)\n",
    "\n",
    "#df_copasa['DATA_STATUS'] = df_copasa['DATA_STATUS'].replace('NaT',00-00-0000)\n"
   ]
  },
  {
   "cell_type": "code",
   "execution_count": 124,
   "id": "7f785160-7fa9-4643-8783-bc1f6cf20d66",
   "metadata": {},
   "outputs": [
    {
     "data": {
      "text/plain": [
       "LOCALIDADE            object\n",
       "PROJETO               object\n",
       "PROG_ORCAMENTARIO     object\n",
       "REQUISICAO             int64\n",
       "DIAGRAMA_DE_REDE       int64\n",
       "TEXTO_DIAGRAMA        object\n",
       "ANALISTA_FISCAL        int64\n",
       "PLANEJADO            float64\n",
       "COMPROMISSO          float64\n",
       "TOTAL_MEDIDO         float64\n",
       "MEDIDO_REAJUSTE      float64\n",
       "SALDO                float64\n",
       "STATUS                object\n",
       "DATA_STATUS           object\n",
       "DESVIO               float64\n",
       "dtype: object"
      ]
     },
     "execution_count": 124,
     "metadata": {},
     "output_type": "execute_result"
    }
   ],
   "source": [
    "df_copasa.dtypes"
   ]
  },
  {
   "cell_type": "code",
   "execution_count": 130,
   "id": "46b3caf8-5073-4f1f-8aef-03969aeb194c",
   "metadata": {},
   "outputs": [],
   "source": [
    "#inserindo dados no banco de dados\n",
    "cnx = mysql.connector.connect(user='root',\n",
    "                              password='root',\n",
    "                              host='127.0.0.1',\n",
    "                              database='bd_rpeotta')\n",
    "cursor = cnx.cursor()\n",
    "\n",
    "#cursor.execute('delete from bd_rpeotta.relatorio_emissao')\n",
    "\n",
    "for i,df_colunas in df_copasa.iterrows():\n",
    "    cursor.execute (\n",
    "     '''\n",
    "     insert into copasa(\n",
    "     LOCALIDADE,PROJETO,PROG_ORCAMENTARIO,REQUISICAO,DIAGRAMA_DE_REDE,TEXTO_DIAGRAMA,ANALISTA_FISCAL,\n",
    "     PLANEJADO,COMPROMISSO, TOTAL_MEDIDO,MEDIDO_REAJUSTE,SALDO,STATUS,DATA_STATUS,DESVIO) \n",
    "     \n",
    "     values(%s,%s,%s,%s,%s,%s,%s,%s,%s,%s,%s,%s,%s,%s,%s)\n",
    "     ON DUPLICATE KEY UPDATE\n",
    "         LOCALIDADE = VALUES(LOCALIDADE),         \n",
    "         PROJETO = VALUES(PROJETO),\n",
    "         PROG_ORCAMENTARIO = VALUES(PROG_ORCAMENTARIO),\n",
    "         REQUISICAO = VALUES(REQUISICAO),\n",
    "         DIAGRAMA_DE_REDE = VALUES(DIAGRAMA_DE_REDE),\n",
    "         TEXTO_DIAGRAMA = VALUES(TEXTO_DIAGRAMA),\n",
    "         ANALISTA_FISCAL = VALUES(ANALISTA_FISCAL),\n",
    "         PLANEJADO = VALUES(PLANEJADO),\n",
    "         COMPROMISSO = VALUES(COMPROMISSO),\n",
    "         TOTAL_MEDIDO = VALUES(TOTAL_MEDIDO),\n",
    "         MEDIDO_REAJUSTE = VALUES(MEDIDO_REAJUSTE),\n",
    "         SALDO = VALUES(SALDO),\n",
    "         STATUS = VALUES(STATUS),\n",
    "         DATA_STATUS = VALUES(DATA_STATUS),\n",
    "         DESVIO = VALUES(DESVIO);\n",
    "    ''',(\n",
    "         df_colunas['LOCALIDADE'],\n",
    "         df_colunas['PROJETO'],\n",
    "         df_colunas['PROG_ORCAMENTARIO'],\n",
    "         df_colunas['REQUISICAO'],\n",
    "         df_colunas['DIAGRAMA_DE_REDE'],\n",
    "         df_colunas['TEXTO_DIAGRAMA'],\n",
    "         df_colunas['ANALISTA_FISCAL'],\n",
    "         df_colunas['PLANEJADO'],\n",
    "         df_colunas['COMPROMISSO'],\n",
    "         df_colunas['TOTAL_MEDIDO'],\n",
    "         df_colunas['MEDIDO_REAJUSTE'],\n",
    "         df_colunas['SALDO'],\n",
    "         df_colunas['STATUS'],\n",
    "         df_colunas['DATA_STATUS'],\n",
    "         df_colunas['DESVIO']\n",
    "         #df_colunas['COORDENADORES'],\n",
    "         #df_colunas['PORCENTAGEM_MEDIDA'],\n",
    "         #df_colunas['OBSERVACAO']\n",
    "    )\n",
    ")\n",
    "\n",
    "\n",
    "cnx.commit()\n",
    "\n",
    "cursor.close()\n",
    "cnx.close()"
   ]
  },
  {
   "cell_type": "markdown",
   "id": "af0350a8-3c59-41a6-804c-9c53faec3aa3",
   "metadata": {},
   "source": [
    "#inserindo dados no banco de dados\n",
    "cnx = mysql.connector.connect(user='root',\n",
    "                              password='root',\n",
    "                              host='127.0.0.1',\n",
    "                              database='bd_rpeotta')\n",
    "cursor = cnx.cursor()\n",
    "\n",
    "#cursor.execute('delete from bd_rpeotta.relatorio_emissao')\n",
    "\n",
    "for i,df_colunas in df_copasa.iterrows():\n",
    "    cursor.execute (\n",
    "     '''\n",
    "     insert into copasa(\n",
    "     LOCALIDADE,PROJETO,PROG_ORCAMENTARIO,REQUISICAO,DIAGRAMA_DE_REDE,TEXTO_DIAGRAMA,ANALISTA_FISCAL,\n",
    "     PLANEJADO,COMPROMISSO, TOTAL_MEDIDO,MEDIDO_REAJUSTE,SALDO,STATUS,DATA_STATUS,DESVIO) \n",
    "     \n",
    "     values(%s,%s,%s,%s,%s,%s,%s,%s,%s,%s,%s,%s,%s,%s,%s)\n",
    "     ON DUPLICATE KEY UPDATE\n",
    "         LOCALIDADE = VALUES(LOCALIDADE),         \n",
    "         PROJETO = VALUES(PROJETO),\n",
    "         PROG_ORCAMENTARIO = VALUES(PROG_ORCAMENTARIO),\n",
    "         REQUISICAO = VALUES(REQUISICAO),\n",
    "         DIAGRAMA_DE_REDE = VALUES(DIAGRAMA_DE_REDE),\n",
    "         TEXTO_DIAGRAMA = VALUES(TEXTO_DIAGRAMA),\n",
    "         ANALISTA_FISCAL = VALUES(ANALISTA_FISCAL),\n",
    "         PLANEJADO = VALUES(PLANEJADO),\n",
    "         COMPROMISSO = VALUES(COMPROMISSO),\n",
    "         TOTAL_MEDIDO = VALUES(TOTAL_MEDIDO),\n",
    "         MEDIDO_REAJUSTE = VALUES(MEDIDO_REAJUSTE),\n",
    "         SALDO = VALUES(SALDO),\n",
    "         STATUS = VALUES(STATUS),\n",
    "         DATA_STATUS = VALUES(DATA_STATUS),\n",
    "         DESVIO = VALUES(DESVIO);\n",
    "    ''',(\n",
    "         df_colunas['LOCALIDADE'],\n",
    "         df_colunas['PROJETO'],\n",
    "         df_colunas['PROG_ORCAMENTARIO'],\n",
    "         df_colunas['REQUISICAO'],\n",
    "         df_colunas['DIAGRAMA_DE_REDE'],\n",
    "         df_colunas['TEXTO_DIAGRAMA'],\n",
    "         df_colunas['ANALISTA_FISCAL'],\n",
    "         df_colunas['PLANEJADO'],\n",
    "         df_colunas['COMPROMISSO'],\n",
    "         df_colunas['TOTAL_MEDIDO'],\n",
    "         df_colunas['MEDIDO_REAJUSTE'],\n",
    "         df_colunas['SALDO'],\n",
    "         df_colunas['STATUS'],\n",
    "         df_colunas['DATA_STATUS'],\n",
    "         df_colunas['DESVIO']\n",
    "         #df_colunas['COORDENADORES'],\n",
    "         #df_colunas['PORCENTAGEM_MEDIDA'],\n",
    "         #df_colunas['OBSERVACAO']\n",
    "    )\n",
    ")\n",
    "\n",
    "\n",
    "cnx.commit()\n",
    "\n",
    "cursor.close()\n",
    "cnx.close()"
   ]
  }
 ],
 "metadata": {
  "kernelspec": {
   "display_name": "Python 3 (ipykernel)",
   "language": "python",
   "name": "python3"
  },
  "language_info": {
   "codemirror_mode": {
    "name": "ipython",
    "version": 3
   },
   "file_extension": ".py",
   "mimetype": "text/x-python",
   "name": "python",
   "nbconvert_exporter": "python",
   "pygments_lexer": "ipython3",
   "version": "3.12.7"
  }
 },
 "nbformat": 4,
 "nbformat_minor": 5
}
